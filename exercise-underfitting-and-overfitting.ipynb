{
 "cells": [
  {
   "cell_type": "markdown",
   "id": "1fa05bde",
   "metadata": {
    "papermill": {
     "duration": 0.012828,
     "end_time": "2021-11-29T17:33:18.318330",
     "exception": false,
     "start_time": "2021-11-29T17:33:18.305502",
     "status": "completed"
    },
    "tags": []
   },
   "source": [
    "**This notebook is an exercise in the [Introduction to Machine Learning](https://www.kaggle.com/learn/intro-to-machine-learning) course.  You can reference the tutorial at [this link](https://www.kaggle.com/dansbecker/underfitting-and-overfitting).**\n",
    "\n",
    "---\n"
   ]
  },
  {
   "cell_type": "markdown",
   "id": "6ca19087",
   "metadata": {
    "papermill": {
     "duration": 0.009079,
     "end_time": "2021-11-29T17:33:18.336876",
     "exception": false,
     "start_time": "2021-11-29T17:33:18.327797",
     "status": "completed"
    },
    "tags": []
   },
   "source": [
    "## Recap\n",
    "You've built your first model, and now it's time to optimize the size of the tree to make better predictions. Run this cell to set up your coding environment where the previous step left off."
   ]
  },
  {
   "cell_type": "code",
   "execution_count": 1,
   "id": "7910cdbd",
   "metadata": {
    "execution": {
     "iopub.execute_input": "2021-11-29T17:33:18.366382Z",
     "iopub.status.busy": "2021-11-29T17:33:18.365425Z",
     "iopub.status.idle": "2021-11-29T17:33:19.584903Z",
     "shell.execute_reply": "2021-11-29T17:33:19.584326Z",
     "shell.execute_reply.started": "2021-11-29T17:30:43.784663Z"
    },
    "papermill": {
     "duration": 1.239137,
     "end_time": "2021-11-29T17:33:19.585108",
     "exception": false,
     "start_time": "2021-11-29T17:33:18.345971",
     "status": "completed"
    },
    "tags": []
   },
   "outputs": [
    {
     "name": "stdout",
     "output_type": "stream",
     "text": [
      "Validation MAE: 29,653\n",
      "\n",
      "Setup complete\n"
     ]
    }
   ],
   "source": [
    "# Code you have previously used to load data\n",
    "import pandas as pd\n",
    "from sklearn.metrics import mean_absolute_error\n",
    "from sklearn.model_selection import train_test_split\n",
    "from sklearn.tree import DecisionTreeRegressor\n",
    "\n",
    "\n",
    "# Path of the file to read\n",
    "iowa_file_path = '../input/home-data-for-ml-course/train.csv'\n",
    "\n",
    "home_data = pd.read_csv(iowa_file_path)\n",
    "# Create target object and call it y\n",
    "y = home_data.SalePrice\n",
    "# Create X\n",
    "features = ['LotArea', 'YearBuilt', '1stFlrSF', '2ndFlrSF', 'FullBath', 'BedroomAbvGr', 'TotRmsAbvGrd']\n",
    "X = home_data[features]\n",
    "\n",
    "# Split into validation and training data\n",
    "train_X, val_X, train_y, val_y = train_test_split(X, y, random_state=1)\n",
    "\n",
    "# Specify Model\n",
    "iowa_model = DecisionTreeRegressor(random_state=1)\n",
    "# Fit Model\n",
    "iowa_model.fit(train_X, train_y)\n",
    "\n",
    "# Make validation predictions and calculate mean absolute error\n",
    "val_predictions = iowa_model.predict(val_X)\n",
    "val_mae = mean_absolute_error(val_predictions, val_y)\n",
    "print(\"Validation MAE: {:,.0f}\".format(val_mae))\n",
    "\n",
    "# Set up code checking\n",
    "from learntools.core import binder\n",
    "binder.bind(globals())\n",
    "from learntools.machine_learning.ex5 import *\n",
    "print(\"\\nSetup complete\")"
   ]
  },
  {
   "cell_type": "markdown",
   "id": "ec34dcf9",
   "metadata": {
    "papermill": {
     "duration": 0.007309,
     "end_time": "2021-11-29T17:33:19.602530",
     "exception": false,
     "start_time": "2021-11-29T17:33:19.595221",
     "status": "completed"
    },
    "tags": []
   },
   "source": [
    "# Exercises\n",
    "You could write the function `get_mae` yourself. For now, we'll supply it. This is the same function you read about in the previous lesson. Just run the cell below."
   ]
  },
  {
   "cell_type": "code",
   "execution_count": 2,
   "id": "f622dac2",
   "metadata": {
    "execution": {
     "iopub.execute_input": "2021-11-29T17:33:19.623222Z",
     "iopub.status.busy": "2021-11-29T17:33:19.622399Z",
     "iopub.status.idle": "2021-11-29T17:33:19.625456Z",
     "shell.execute_reply": "2021-11-29T17:33:19.624842Z",
     "shell.execute_reply.started": "2021-11-29T17:30:55.050594Z"
    },
    "papermill": {
     "duration": 0.015511,
     "end_time": "2021-11-29T17:33:19.625589",
     "exception": false,
     "start_time": "2021-11-29T17:33:19.610078",
     "status": "completed"
    },
    "tags": []
   },
   "outputs": [],
   "source": [
    "def get_mae(max_leaf_nodes, train_X, val_X, train_y, val_y):\n",
    "    model = DecisionTreeRegressor(max_leaf_nodes=max_leaf_nodes, random_state=0)\n",
    "    model.fit(train_X, train_y)\n",
    "    preds_val = model.predict(val_X)\n",
    "    mae = mean_absolute_error(val_y, preds_val)\n",
    "    return(mae)"
   ]
  },
  {
   "cell_type": "markdown",
   "id": "773758f6",
   "metadata": {
    "papermill": {
     "duration": 0.007226,
     "end_time": "2021-11-29T17:33:19.640493",
     "exception": false,
     "start_time": "2021-11-29T17:33:19.633267",
     "status": "completed"
    },
    "tags": []
   },
   "source": [
    "## Step 1: Compare Different Tree Sizes\n",
    "Write a loop that tries the following values for *max_leaf_nodes* from a set of possible values.\n",
    "\n",
    "Call the *get_mae* function on each value of max_leaf_nodes. Store the output in some way that allows you to select the value of `max_leaf_nodes` that gives the most accurate model on your data."
   ]
  },
  {
   "cell_type": "code",
   "execution_count": 3,
   "id": "fd1ed95e",
   "metadata": {
    "execution": {
     "iopub.execute_input": "2021-11-29T17:33:19.663779Z",
     "iopub.status.busy": "2021-11-29T17:33:19.662811Z",
     "iopub.status.idle": "2021-11-29T17:33:19.706473Z",
     "shell.execute_reply": "2021-11-29T17:33:19.705915Z",
     "shell.execute_reply.started": "2021-11-29T17:31:47.304540Z"
    },
    "papermill": {
     "duration": 0.058452,
     "end_time": "2021-11-29T17:33:19.706613",
     "exception": false,
     "start_time": "2021-11-29T17:33:19.648161",
     "status": "completed"
    },
    "tags": []
   },
   "outputs": [
    {
     "data": {
      "application/javascript": [
       "parent.postMessage({\"jupyterEvent\": \"custom.exercise_interaction\", \"data\": {\"outcomeType\": 1, \"valueTowardsCompletion\": 0.5, \"interactionType\": 1, \"questionType\": 1, \"questionId\": \"1_BestTreeSize\", \"learnToolsVersion\": \"0.3.4\", \"failureMessage\": \"\", \"exceptionClass\": \"\", \"trace\": \"\"}}, \"*\")"
      ],
      "text/plain": [
       "<IPython.core.display.Javascript object>"
      ]
     },
     "metadata": {},
     "output_type": "display_data"
    },
    {
     "data": {
      "text/markdown": [
       "<span style=\"color:#33cc33\">Correct</span>"
      ],
      "text/plain": [
       "Correct"
      ]
     },
     "metadata": {},
     "output_type": "display_data"
    }
   ],
   "source": [
    "candidate_max_leaf_nodes = [5, 25, 50, 100, 250, 500]\n",
    "# Write loop to find the ideal tree size from candidate_max_leaf_nodes\n",
    "scores = {leaf_size: get_mae(leaf_size, train_X, val_X, train_y, val_y) for leaf_size in candidate_max_leaf_nodes}\n",
    "best_tree_size = min(scores, key=scores.get)\n",
    "\n",
    "# Store the best value of max_leaf_nodes (it will be either 5, 25, 50, 100, 250 or 500)\n",
    "best_tree_size = min(scores, key=scores.get)\n",
    "\n",
    "# Check your answer\n",
    "step_1.check()"
   ]
  },
  {
   "cell_type": "code",
   "execution_count": 4,
   "id": "acaf6612",
   "metadata": {
    "execution": {
     "iopub.execute_input": "2021-11-29T17:33:19.727358Z",
     "iopub.status.busy": "2021-11-29T17:33:19.726531Z",
     "iopub.status.idle": "2021-11-29T17:33:19.729256Z",
     "shell.execute_reply": "2021-11-29T17:33:19.728676Z",
     "shell.execute_reply.started": "2021-11-29T17:32:16.629811Z"
    },
    "papermill": {
     "duration": 0.014484,
     "end_time": "2021-11-29T17:33:19.729385",
     "exception": false,
     "start_time": "2021-11-29T17:33:19.714901",
     "status": "completed"
    },
    "tags": []
   },
   "outputs": [],
   "source": [
    "# The lines below will show you a hint or the solution.\n",
    "# step_1.hint() \n",
    "#step_1.solution()"
   ]
  },
  {
   "cell_type": "markdown",
   "id": "751d702d",
   "metadata": {
    "papermill": {
     "duration": 0.008054,
     "end_time": "2021-11-29T17:33:19.745694",
     "exception": false,
     "start_time": "2021-11-29T17:33:19.737640",
     "status": "completed"
    },
    "tags": []
   },
   "source": [
    "## Step 2: Fit Model Using All Data\n",
    "You know the best tree size. If you were going to deploy this model in practice, you would make it even more accurate by using all of the data and keeping that tree size.  That is, you don't need to hold out the validation data now that you've made all your modeling decisions."
   ]
  },
  {
   "cell_type": "code",
   "execution_count": 5,
   "id": "e256e8c0",
   "metadata": {
    "execution": {
     "iopub.execute_input": "2021-11-29T17:33:19.766494Z",
     "iopub.status.busy": "2021-11-29T17:33:19.765537Z",
     "iopub.status.idle": "2021-11-29T17:33:19.781471Z",
     "shell.execute_reply": "2021-11-29T17:33:19.781970Z",
     "shell.execute_reply.started": "2021-11-29T17:32:51.685802Z"
    },
    "papermill": {
     "duration": 0.02815,
     "end_time": "2021-11-29T17:33:19.782152",
     "exception": false,
     "start_time": "2021-11-29T17:33:19.754002",
     "status": "completed"
    },
    "tags": []
   },
   "outputs": [
    {
     "data": {
      "application/javascript": [
       "parent.postMessage({\"jupyterEvent\": \"custom.exercise_interaction\", \"data\": {\"outcomeType\": 1, \"valueTowardsCompletion\": 0.5, \"interactionType\": 1, \"questionType\": 2, \"questionId\": \"2_FitModelWithAllData\", \"learnToolsVersion\": \"0.3.4\", \"failureMessage\": \"\", \"exceptionClass\": \"\", \"trace\": \"\"}}, \"*\")"
      ],
      "text/plain": [
       "<IPython.core.display.Javascript object>"
      ]
     },
     "metadata": {},
     "output_type": "display_data"
    },
    {
     "data": {
      "text/markdown": [
       "<span style=\"color:#33cc33\">Correct</span>"
      ],
      "text/plain": [
       "Correct"
      ]
     },
     "metadata": {},
     "output_type": "display_data"
    }
   ],
   "source": [
    "# Fill in argument to make optimal size and uncomment\n",
    "final_model = DecisionTreeRegressor(max_leaf_nodes=best_tree_size, random_state=1)\n",
    "\n",
    "# fit the final model and uncomment the next two lines\n",
    "final_model.fit(X, y)\n",
    "\n",
    "# Check your answer\n",
    "step_2.check()"
   ]
  },
  {
   "cell_type": "code",
   "execution_count": 6,
   "id": "e3ae7dce",
   "metadata": {
    "execution": {
     "iopub.execute_input": "2021-11-29T17:33:19.803814Z",
     "iopub.status.busy": "2021-11-29T17:33:19.802869Z",
     "iopub.status.idle": "2021-11-29T17:33:19.806286Z",
     "shell.execute_reply": "2021-11-29T17:33:19.806797Z",
     "shell.execute_reply.started": "2021-11-29T17:32:55.414567Z"
    },
    "papermill": {
     "duration": 0.015809,
     "end_time": "2021-11-29T17:33:19.806962",
     "exception": false,
     "start_time": "2021-11-29T17:33:19.791153",
     "status": "completed"
    },
    "tags": []
   },
   "outputs": [],
   "source": [
    "# step_2.hint()\n",
    "#step_2.solution()"
   ]
  },
  {
   "cell_type": "markdown",
   "id": "a9767f11",
   "metadata": {
    "papermill": {
     "duration": 0.009742,
     "end_time": "2021-11-29T17:33:19.826025",
     "exception": false,
     "start_time": "2021-11-29T17:33:19.816283",
     "status": "completed"
    },
    "tags": []
   },
   "source": [
    "You've tuned this model and improved your results. But we are still using Decision Tree models, which are not very sophisticated by modern machine learning standards. In the next step you will learn to use Random Forests to improve your models even more.\n",
    "\n",
    "# Keep Going\n",
    "\n",
    "You are ready for **[Random Forests](https://www.kaggle.com/dansbecker/random-forests).**\n"
   ]
  },
  {
   "cell_type": "markdown",
   "id": "81ece59f",
   "metadata": {
    "papermill": {
     "duration": 0.009202,
     "end_time": "2021-11-29T17:33:19.844625",
     "exception": false,
     "start_time": "2021-11-29T17:33:19.835423",
     "status": "completed"
    },
    "tags": []
   },
   "source": [
    "---\n",
    "\n",
    "\n",
    "\n",
    "\n",
    "*Have questions or comments? Visit the [course discussion forum](https://www.kaggle.com/learn/intro-to-machine-learning/discussion) to chat with other learners.*"
   ]
  }
 ],
 "metadata": {
  "kernelspec": {
   "display_name": "Python 3",
   "language": "python",
   "name": "python3"
  },
  "language_info": {
   "codemirror_mode": {
    "name": "ipython",
    "version": 3
   },
   "file_extension": ".py",
   "mimetype": "text/x-python",
   "name": "python",
   "nbconvert_exporter": "python",
   "pygments_lexer": "ipython3",
   "version": "3.7.10"
  },
  "papermill": {
   "default_parameters": {},
   "duration": 10.314398,
   "end_time": "2021-11-29T17:33:20.564195",
   "environment_variables": {},
   "exception": null,
   "input_path": "__notebook__.ipynb",
   "output_path": "__notebook__.ipynb",
   "parameters": {},
   "start_time": "2021-11-29T17:33:10.249797",
   "version": "2.3.3"
  }
 },
 "nbformat": 4,
 "nbformat_minor": 5
}
