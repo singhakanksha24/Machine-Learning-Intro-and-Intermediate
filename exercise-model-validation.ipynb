{
 "cells": [
  {
   "cell_type": "markdown",
   "id": "4d8527b9",
   "metadata": {
    "papermill": {
     "duration": 0.015113,
     "end_time": "2021-11-29T17:24:37.331861",
     "exception": false,
     "start_time": "2021-11-29T17:24:37.316748",
     "status": "completed"
    },
    "tags": []
   },
   "source": [
    "**This notebook is an exercise in the [Introduction to Machine Learning](https://www.kaggle.com/learn/intro-to-machine-learning) course.  You can reference the tutorial at [this link](https://www.kaggle.com/dansbecker/model-validation).**\n",
    "\n",
    "---\n"
   ]
  },
  {
   "cell_type": "markdown",
   "id": "dec78301",
   "metadata": {
    "papermill": {
     "duration": 0.013184,
     "end_time": "2021-11-29T17:24:37.358986",
     "exception": false,
     "start_time": "2021-11-29T17:24:37.345802",
     "status": "completed"
    },
    "tags": []
   },
   "source": [
    "## Recap\n",
    "You've built a model. In this exercise you will test how good your model is.\n",
    "\n",
    "Run the cell below to set up your coding environment where the previous exercise left off."
   ]
  },
  {
   "cell_type": "code",
   "execution_count": 1,
   "id": "0ee7c7da",
   "metadata": {
    "execution": {
     "iopub.execute_input": "2021-11-29T17:24:37.394230Z",
     "iopub.status.busy": "2021-11-29T17:24:37.392385Z",
     "iopub.status.idle": "2021-11-29T17:24:38.665742Z",
     "shell.execute_reply": "2021-11-29T17:24:38.666382Z",
     "shell.execute_reply.started": "2021-11-29T17:18:48.303345Z"
    },
    "papermill": {
     "duration": 1.294225,
     "end_time": "2021-11-29T17:24:38.666697",
     "exception": false,
     "start_time": "2021-11-29T17:24:37.372472",
     "status": "completed"
    },
    "tags": []
   },
   "outputs": [
    {
     "name": "stdout",
     "output_type": "stream",
     "text": [
      "First in-sample predictions: [208500. 181500. 223500. 140000. 250000.]\n",
      "Actual target values for those homes: [208500, 181500, 223500, 140000, 250000]\n",
      "Setup Complete\n"
     ]
    }
   ],
   "source": [
    "# Code you have previously used to load data\n",
    "import pandas as pd\n",
    "from sklearn.tree import DecisionTreeRegressor\n",
    "\n",
    "# Path of the file to read\n",
    "iowa_file_path = '../input/home-data-for-ml-course/train.csv'\n",
    "\n",
    "home_data = pd.read_csv(iowa_file_path)\n",
    "y = home_data.SalePrice\n",
    "feature_columns = ['LotArea', 'YearBuilt', '1stFlrSF', '2ndFlrSF', 'FullBath', 'BedroomAbvGr', 'TotRmsAbvGrd']\n",
    "X = home_data[feature_columns]\n",
    "\n",
    "# Specify Model\n",
    "iowa_model = DecisionTreeRegressor()\n",
    "# Fit Model\n",
    "iowa_model.fit(X, y)\n",
    "\n",
    "print(\"First in-sample predictions:\", iowa_model.predict(X.head()))\n",
    "print(\"Actual target values for those homes:\", y.head().tolist())\n",
    "\n",
    "# Set up code checking\n",
    "from learntools.core import binder\n",
    "binder.bind(globals())\n",
    "from learntools.machine_learning.ex4 import *\n",
    "print(\"Setup Complete\")"
   ]
  },
  {
   "cell_type": "markdown",
   "id": "23b64b9f",
   "metadata": {
    "papermill": {
     "duration": 0.013495,
     "end_time": "2021-11-29T17:24:38.694150",
     "exception": false,
     "start_time": "2021-11-29T17:24:38.680655",
     "status": "completed"
    },
    "tags": []
   },
   "source": [
    "# Exercises\n",
    "\n",
    "## Step 1: Split Your Data\n",
    "Use the `train_test_split` function to split up your data.\n",
    "\n",
    "Give it the argument `random_state=1` so the `check` functions know what to expect when verifying your code.\n",
    "\n",
    "Recall, your features are loaded in the DataFrame **X** and your target is loaded in **y**.\n"
   ]
  },
  {
   "cell_type": "code",
   "execution_count": 2,
   "id": "c573cff3",
   "metadata": {
    "execution": {
     "iopub.execute_input": "2021-11-29T17:24:38.725913Z",
     "iopub.status.busy": "2021-11-29T17:24:38.725140Z",
     "iopub.status.idle": "2021-11-29T17:24:38.739131Z",
     "shell.execute_reply": "2021-11-29T17:24:38.738643Z",
     "shell.execute_reply.started": "2021-11-29T17:19:26.384437Z"
    },
    "papermill": {
     "duration": 0.031087,
     "end_time": "2021-11-29T17:24:38.739266",
     "exception": false,
     "start_time": "2021-11-29T17:24:38.708179",
     "status": "completed"
    },
    "tags": []
   },
   "outputs": [
    {
     "data": {
      "application/javascript": [
       "parent.postMessage({\"jupyterEvent\": \"custom.exercise_interaction\", \"data\": {\"outcomeType\": 1, \"valueTowardsCompletion\": 0.25, \"interactionType\": 1, \"questionType\": 2, \"questionId\": \"1_SplitData\", \"learnToolsVersion\": \"0.3.4\", \"failureMessage\": \"\", \"exceptionClass\": \"\", \"trace\": \"\"}}, \"*\")"
      ],
      "text/plain": [
       "<IPython.core.display.Javascript object>"
      ]
     },
     "metadata": {},
     "output_type": "display_data"
    },
    {
     "data": {
      "text/markdown": [
       "<span style=\"color:#33cc33\">Correct</span>"
      ],
      "text/plain": [
       "Correct"
      ]
     },
     "metadata": {},
     "output_type": "display_data"
    }
   ],
   "source": [
    "# Import the train_test_split function and uncomment\n",
    "from sklearn.model_selection import train_test_split\n",
    "# fill in and uncomment\n",
    "train_X, val_X, train_y, val_y = train_test_split(X, y, random_state=1)\n",
    "\n",
    "# Check your answer\n",
    "step_1.check()"
   ]
  },
  {
   "cell_type": "code",
   "execution_count": 3,
   "id": "1880a12b",
   "metadata": {
    "execution": {
     "iopub.execute_input": "2021-11-29T17:24:38.771960Z",
     "iopub.status.busy": "2021-11-29T17:24:38.771252Z",
     "iopub.status.idle": "2021-11-29T17:24:38.774265Z",
     "shell.execute_reply": "2021-11-29T17:24:38.774798Z",
     "shell.execute_reply.started": "2021-11-29T17:19:35.596360Z"
    },
    "papermill": {
     "duration": 0.021008,
     "end_time": "2021-11-29T17:24:38.774970",
     "exception": false,
     "start_time": "2021-11-29T17:24:38.753962",
     "status": "completed"
    },
    "tags": []
   },
   "outputs": [],
   "source": [
    "# The lines below will show you a hint or the solution.\n",
    "#step_1.hint() \n",
    "#step_1.solution()\n"
   ]
  },
  {
   "cell_type": "markdown",
   "id": "57148648",
   "metadata": {
    "papermill": {
     "duration": 0.014441,
     "end_time": "2021-11-29T17:24:38.804341",
     "exception": false,
     "start_time": "2021-11-29T17:24:38.789900",
     "status": "completed"
    },
    "tags": []
   },
   "source": [
    "## Step 2: Specify and Fit the Model\n",
    "\n",
    "Create a `DecisionTreeRegressor` model and fit it to the relevant data.\n",
    "Set `random_state` to 1 again when creating the model."
   ]
  },
  {
   "cell_type": "code",
   "execution_count": 4,
   "id": "da039feb",
   "metadata": {
    "execution": {
     "iopub.execute_input": "2021-11-29T17:24:38.837794Z",
     "iopub.status.busy": "2021-11-29T17:24:38.837067Z",
     "iopub.status.idle": "2021-11-29T17:24:38.864222Z",
     "shell.execute_reply": "2021-11-29T17:24:38.864758Z",
     "shell.execute_reply.started": "2021-11-29T17:20:40.283639Z"
    },
    "papermill": {
     "duration": 0.045776,
     "end_time": "2021-11-29T17:24:38.864938",
     "exception": false,
     "start_time": "2021-11-29T17:24:38.819162",
     "status": "completed"
    },
    "tags": []
   },
   "outputs": [
    {
     "name": "stdout",
     "output_type": "stream",
     "text": [
      "[186500. 184000. 130000.  92000. 164500. 220000. 335000. 144152. 215000.\n",
      " 262000.]\n",
      "[186500. 184000. 130000.  92000. 164500. 220000. 335000. 144152. 215000.\n",
      " 262000.]\n"
     ]
    },
    {
     "data": {
      "application/javascript": [
       "parent.postMessage({\"jupyterEvent\": \"custom.exercise_interaction\", \"data\": {\"outcomeType\": 1, \"valueTowardsCompletion\": 0.25, \"interactionType\": 1, \"questionType\": 2, \"questionId\": \"2_FitModelWithTrain\", \"learnToolsVersion\": \"0.3.4\", \"failureMessage\": \"\", \"exceptionClass\": \"\", \"trace\": \"\"}}, \"*\")"
      ],
      "text/plain": [
       "<IPython.core.display.Javascript object>"
      ]
     },
     "metadata": {},
     "output_type": "display_data"
    },
    {
     "data": {
      "text/markdown": [
       "<span style=\"color:#33cc33\">Correct</span>"
      ],
      "text/plain": [
       "Correct"
      ]
     },
     "metadata": {},
     "output_type": "display_data"
    }
   ],
   "source": [
    "# You imported DecisionTreeRegressor in your last exercise\n",
    "# and that code has been copied to the setup code above. So, no need to\n",
    "# import it again\n",
    "from sklearn.tree import DecisionTreeRegressor\n",
    "# Specify the model\n",
    "iowa_model = DecisionTreeRegressor(random_state=1)\n",
    "\n",
    "# Fit iowa_model with the training data.\n",
    "iowa_model.fit(train_X, train_y)\n",
    "\n",
    "\n",
    "# Check your answer\n",
    "step_2.check()"
   ]
  },
  {
   "cell_type": "code",
   "execution_count": 5,
   "id": "3b746a79",
   "metadata": {
    "execution": {
     "iopub.execute_input": "2021-11-29T17:24:38.902470Z",
     "iopub.status.busy": "2021-11-29T17:24:38.901603Z",
     "iopub.status.idle": "2021-11-29T17:24:38.904048Z",
     "shell.execute_reply": "2021-11-29T17:24:38.904505Z",
     "shell.execute_reply.started": "2021-11-29T17:20:09.544741Z"
    },
    "papermill": {
     "duration": 0.02331,
     "end_time": "2021-11-29T17:24:38.904697",
     "exception": false,
     "start_time": "2021-11-29T17:24:38.881387",
     "status": "completed"
    },
    "tags": []
   },
   "outputs": [],
   "source": [
    "# step_2.hint()\n",
    "#step_2.solution()"
   ]
  },
  {
   "cell_type": "markdown",
   "id": "fa469e98",
   "metadata": {
    "papermill": {
     "duration": 0.015915,
     "end_time": "2021-11-29T17:24:38.936863",
     "exception": false,
     "start_time": "2021-11-29T17:24:38.920948",
     "status": "completed"
    },
    "tags": []
   },
   "source": [
    "## Step 3: Make Predictions with Validation data\n"
   ]
  },
  {
   "cell_type": "code",
   "execution_count": 6,
   "id": "f442e120",
   "metadata": {
    "execution": {
     "iopub.execute_input": "2021-11-29T17:24:38.977808Z",
     "iopub.status.busy": "2021-11-29T17:24:38.976854Z",
     "iopub.status.idle": "2021-11-29T17:24:38.982094Z",
     "shell.execute_reply": "2021-11-29T17:24:38.982712Z",
     "shell.execute_reply.started": "2021-11-29T17:23:10.374372Z"
    },
    "papermill": {
     "duration": 0.029421,
     "end_time": "2021-11-29T17:24:38.982884",
     "exception": false,
     "start_time": "2021-11-29T17:24:38.953463",
     "status": "completed"
    },
    "tags": []
   },
   "outputs": [
    {
     "data": {
      "application/javascript": [
       "parent.postMessage({\"jupyterEvent\": \"custom.exercise_interaction\", \"data\": {\"outcomeType\": 1, \"valueTowardsCompletion\": 0.25, \"interactionType\": 1, \"questionType\": 2, \"questionId\": \"3_ValPreds\", \"learnToolsVersion\": \"0.3.4\", \"failureMessage\": \"\", \"exceptionClass\": \"\", \"trace\": \"\"}}, \"*\")"
      ],
      "text/plain": [
       "<IPython.core.display.Javascript object>"
      ]
     },
     "metadata": {},
     "output_type": "display_data"
    },
    {
     "data": {
      "text/markdown": [
       "<span style=\"color:#33cc33\">Correct</span>"
      ],
      "text/plain": [
       "Correct"
      ]
     },
     "metadata": {},
     "output_type": "display_data"
    }
   ],
   "source": [
    "# Predict with all validation observations\n",
    "val_predictions = iowa_model.predict(val_X)\n",
    "\n",
    "# Check your answer\n",
    "step_3.check()"
   ]
  },
  {
   "cell_type": "code",
   "execution_count": 7,
   "id": "d9112492",
   "metadata": {
    "execution": {
     "iopub.execute_input": "2021-11-29T17:24:39.021089Z",
     "iopub.status.busy": "2021-11-29T17:24:39.020425Z",
     "iopub.status.idle": "2021-11-29T17:24:39.023337Z",
     "shell.execute_reply": "2021-11-29T17:24:39.024064Z",
     "shell.execute_reply.started": "2021-11-29T17:20:47.434605Z"
    },
    "papermill": {
     "duration": 0.024003,
     "end_time": "2021-11-29T17:24:39.024259",
     "exception": false,
     "start_time": "2021-11-29T17:24:39.000256",
     "status": "completed"
    },
    "tags": []
   },
   "outputs": [],
   "source": [
    "# step_3.hint()\n",
    "#step_3.solution()"
   ]
  },
  {
   "cell_type": "markdown",
   "id": "193ffe9a",
   "metadata": {
    "papermill": {
     "duration": 0.016954,
     "end_time": "2021-11-29T17:24:39.059016",
     "exception": false,
     "start_time": "2021-11-29T17:24:39.042062",
     "status": "completed"
    },
    "tags": []
   },
   "source": [
    "Inspect your predictions and actual values from validation data."
   ]
  },
  {
   "cell_type": "code",
   "execution_count": 8,
   "id": "c77a0762",
   "metadata": {
    "execution": {
     "iopub.execute_input": "2021-11-29T17:24:39.096201Z",
     "iopub.status.busy": "2021-11-29T17:24:39.095534Z",
     "iopub.status.idle": "2021-11-29T17:24:39.100309Z",
     "shell.execute_reply": "2021-11-29T17:24:39.100952Z",
     "shell.execute_reply.started": "2021-11-29T17:23:46.764710Z"
    },
    "papermill": {
     "duration": 0.024981,
     "end_time": "2021-11-29T17:24:39.101119",
     "exception": false,
     "start_time": "2021-11-29T17:24:39.076138",
     "status": "completed"
    },
    "tags": []
   },
   "outputs": [
    {
     "data": {
      "text/plain": [
       "array([186500., 184000., 130000.,  92000., 164500.])"
      ]
     },
     "execution_count": 8,
     "metadata": {},
     "output_type": "execute_result"
    }
   ],
   "source": [
    "# print the top few validation predictions\n",
    "val_predictions[:5]\n"
   ]
  },
  {
   "cell_type": "markdown",
   "id": "8c9a7021",
   "metadata": {
    "papermill": {
     "duration": 0.017141,
     "end_time": "2021-11-29T17:24:39.135667",
     "exception": false,
     "start_time": "2021-11-29T17:24:39.118526",
     "status": "completed"
    },
    "tags": []
   },
   "source": [
    "What do you notice that is different from what you saw with in-sample predictions (which are printed after the top code cell in this page).\n",
    "\n",
    "Do you remember why validation predictions differ from in-sample (or training) predictions? This is an important idea from the last lesson.\n",
    "\n",
    "## Step 4: Calculate the Mean Absolute Error in Validation Data\n"
   ]
  },
  {
   "cell_type": "code",
   "execution_count": 9,
   "id": "10725a0c",
   "metadata": {
    "execution": {
     "iopub.execute_input": "2021-11-29T17:24:39.173065Z",
     "iopub.status.busy": "2021-11-29T17:24:39.172405Z",
     "iopub.status.idle": "2021-11-29T17:24:39.179034Z",
     "shell.execute_reply": "2021-11-29T17:24:39.179637Z",
     "shell.execute_reply.started": "2021-11-29T17:24:03.744269Z"
    },
    "papermill": {
     "duration": 0.026999,
     "end_time": "2021-11-29T17:24:39.179802",
     "exception": false,
     "start_time": "2021-11-29T17:24:39.152803",
     "status": "completed"
    },
    "tags": []
   },
   "outputs": [
    {
     "data": {
      "application/javascript": [
       "parent.postMessage({\"jupyterEvent\": \"custom.exercise_interaction\", \"data\": {\"outcomeType\": 1, \"valueTowardsCompletion\": 0.25, \"interactionType\": 1, \"questionType\": 1, \"questionId\": \"4_MAE\", \"learnToolsVersion\": \"0.3.4\", \"failureMessage\": \"\", \"exceptionClass\": \"\", \"trace\": \"\"}}, \"*\")"
      ],
      "text/plain": [
       "<IPython.core.display.Javascript object>"
      ]
     },
     "metadata": {},
     "output_type": "display_data"
    },
    {
     "data": {
      "text/markdown": [
       "<span style=\"color:#33cc33\">Correct</span>"
      ],
      "text/plain": [
       "Correct"
      ]
     },
     "metadata": {},
     "output_type": "display_data"
    }
   ],
   "source": [
    "from sklearn.metrics import mean_absolute_error\n",
    "val_mae = mean_absolute_error(val_y, val_predictions)\n",
    "\n",
    "# uncomment following line to see the validation_mae\n",
    "val_mae\n",
    "# Check your answer\n",
    "step_4.check()"
   ]
  },
  {
   "cell_type": "code",
   "execution_count": 10,
   "id": "b10ba8f9",
   "metadata": {
    "execution": {
     "iopub.execute_input": "2021-11-29T17:24:39.219230Z",
     "iopub.status.busy": "2021-11-29T17:24:39.218584Z",
     "iopub.status.idle": "2021-11-29T17:24:39.221348Z",
     "shell.execute_reply": "2021-11-29T17:24:39.221995Z",
     "shell.execute_reply.started": "2021-11-29T17:24:10.078895Z"
    },
    "papermill": {
     "duration": 0.024138,
     "end_time": "2021-11-29T17:24:39.222162",
     "exception": false,
     "start_time": "2021-11-29T17:24:39.198024",
     "status": "completed"
    },
    "tags": []
   },
   "outputs": [],
   "source": [
    "# step_4.hint()\n",
    "#step_4.solution()"
   ]
  },
  {
   "cell_type": "markdown",
   "id": "724fa7d2",
   "metadata": {
    "papermill": {
     "duration": 0.017816,
     "end_time": "2021-11-29T17:24:39.258274",
     "exception": false,
     "start_time": "2021-11-29T17:24:39.240458",
     "status": "completed"
    },
    "tags": []
   },
   "source": [
    "Is that MAE good?  There isn't a general rule for what values are good that applies across applications. But you'll see how to use (and improve) this number in the next step.\n",
    "\n",
    "# Keep Going\n",
    "\n",
    "You are ready for **[Underfitting and Overfitting](https://www.kaggle.com/dansbecker/underfitting-and-overfitting).**\n"
   ]
  },
  {
   "cell_type": "markdown",
   "id": "2a9fe6a8",
   "metadata": {
    "papermill": {
     "duration": 0.017809,
     "end_time": "2021-11-29T17:24:39.294489",
     "exception": false,
     "start_time": "2021-11-29T17:24:39.276680",
     "status": "completed"
    },
    "tags": []
   },
   "source": [
    "---\n",
    "\n",
    "\n",
    "\n",
    "\n",
    "*Have questions or comments? Visit the [course discussion forum](https://www.kaggle.com/learn/intro-to-machine-learning/discussion) to chat with other learners.*"
   ]
  }
 ],
 "metadata": {
  "kernelspec": {
   "display_name": "Python 3",
   "language": "python",
   "name": "python3"
  },
  "language_info": {
   "codemirror_mode": {
    "name": "ipython",
    "version": 3
   },
   "file_extension": ".py",
   "mimetype": "text/x-python",
   "name": "python",
   "nbconvert_exporter": "python",
   "pygments_lexer": "ipython3",
   "version": "3.7.10"
  },
  "papermill": {
   "default_parameters": {},
   "duration": 12.24391,
   "end_time": "2021-11-29T17:24:40.026050",
   "environment_variables": {},
   "exception": null,
   "input_path": "__notebook__.ipynb",
   "output_path": "__notebook__.ipynb",
   "parameters": {},
   "start_time": "2021-11-29T17:24:27.782140",
   "version": "2.3.3"
  }
 },
 "nbformat": 4,
 "nbformat_minor": 5
}
